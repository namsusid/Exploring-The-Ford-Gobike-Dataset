{
 "cells": [
  {
   "cell_type": "markdown",
   "metadata": {},
   "source": [
    "# Exploring The Ford Gobike Dataset \n",
    "## by Muhammad Usman Siddiqui\n",
    "\n",
    "## Preliminary Wrangling\n",
    "\n",
    "> This data set contains data about individual rides made in a bike-sharing system. Two data sets are used; one is about the rides made in the San Francisco Bay Area, and one is about the rides made in New York City. "
   ]
  },
  {
   "cell_type": "code",
   "execution_count": 1,
   "metadata": {},
   "outputs": [],
   "source": [
    "# import all packages and set plots to be embedded inline\n",
    "import numpy as np\n",
    "import pandas as pd\n",
    "import matplotlib.pyplot as plt\n",
    "import datetime\n",
    "\n",
    "%matplotlib inline"
   ]
  },
  {
   "cell_type": "code",
   "execution_count": 2,
   "metadata": {
    "scrolled": true
   },
   "outputs": [
    {
     "data": {
      "text/html": [
       "<div>\n",
       "<style scoped>\n",
       "    .dataframe tbody tr th:only-of-type {\n",
       "        vertical-align: middle;\n",
       "    }\n",
       "\n",
       "    .dataframe tbody tr th {\n",
       "        vertical-align: top;\n",
       "    }\n",
       "\n",
       "    .dataframe thead th {\n",
       "        text-align: right;\n",
       "    }\n",
       "</style>\n",
       "<table border=\"1\" class=\"dataframe\">\n",
       "  <thead>\n",
       "    <tr style=\"text-align: right;\">\n",
       "      <th></th>\n",
       "      <th>duration_sec</th>\n",
       "      <th>start_time</th>\n",
       "      <th>end_time</th>\n",
       "      <th>start_station_id</th>\n",
       "      <th>start_station_name</th>\n",
       "      <th>start_station_latitude</th>\n",
       "      <th>start_station_longitude</th>\n",
       "      <th>end_station_id</th>\n",
       "      <th>end_station_name</th>\n",
       "      <th>end_station_latitude</th>\n",
       "      <th>end_station_longitude</th>\n",
       "      <th>bike_id</th>\n",
       "      <th>user_type</th>\n",
       "      <th>member_birth_year</th>\n",
       "      <th>member_gender</th>\n",
       "      <th>bike_share_for_all_trip</th>\n",
       "    </tr>\n",
       "  </thead>\n",
       "  <tbody>\n",
       "    <tr>\n",
       "      <th>0</th>\n",
       "      <td>52185</td>\n",
       "      <td>2019-02-28 17:32:10.1450</td>\n",
       "      <td>2019-03-01 08:01:55.9750</td>\n",
       "      <td>21.0</td>\n",
       "      <td>Montgomery St BART Station (Market St at 2nd St)</td>\n",
       "      <td>37.789625</td>\n",
       "      <td>-122.400811</td>\n",
       "      <td>13.0</td>\n",
       "      <td>Commercial St at Montgomery St</td>\n",
       "      <td>37.794231</td>\n",
       "      <td>-122.402923</td>\n",
       "      <td>4902</td>\n",
       "      <td>Customer</td>\n",
       "      <td>1984.0</td>\n",
       "      <td>Male</td>\n",
       "      <td>No</td>\n",
       "    </tr>\n",
       "    <tr>\n",
       "      <th>1</th>\n",
       "      <td>42521</td>\n",
       "      <td>2019-02-28 18:53:21.7890</td>\n",
       "      <td>2019-03-01 06:42:03.0560</td>\n",
       "      <td>23.0</td>\n",
       "      <td>The Embarcadero at Steuart St</td>\n",
       "      <td>37.791464</td>\n",
       "      <td>-122.391034</td>\n",
       "      <td>81.0</td>\n",
       "      <td>Berry St at 4th St</td>\n",
       "      <td>37.775880</td>\n",
       "      <td>-122.393170</td>\n",
       "      <td>2535</td>\n",
       "      <td>Customer</td>\n",
       "      <td>NaN</td>\n",
       "      <td>NaN</td>\n",
       "      <td>No</td>\n",
       "    </tr>\n",
       "    <tr>\n",
       "      <th>2</th>\n",
       "      <td>61854</td>\n",
       "      <td>2019-02-28 12:13:13.2180</td>\n",
       "      <td>2019-03-01 05:24:08.1460</td>\n",
       "      <td>86.0</td>\n",
       "      <td>Market St at Dolores St</td>\n",
       "      <td>37.769305</td>\n",
       "      <td>-122.426826</td>\n",
       "      <td>3.0</td>\n",
       "      <td>Powell St BART Station (Market St at 4th St)</td>\n",
       "      <td>37.786375</td>\n",
       "      <td>-122.404904</td>\n",
       "      <td>5905</td>\n",
       "      <td>Customer</td>\n",
       "      <td>1972.0</td>\n",
       "      <td>Male</td>\n",
       "      <td>No</td>\n",
       "    </tr>\n",
       "    <tr>\n",
       "      <th>3</th>\n",
       "      <td>36490</td>\n",
       "      <td>2019-02-28 17:54:26.0100</td>\n",
       "      <td>2019-03-01 04:02:36.8420</td>\n",
       "      <td>375.0</td>\n",
       "      <td>Grove St at Masonic Ave</td>\n",
       "      <td>37.774836</td>\n",
       "      <td>-122.446546</td>\n",
       "      <td>70.0</td>\n",
       "      <td>Central Ave at Fell St</td>\n",
       "      <td>37.773311</td>\n",
       "      <td>-122.444293</td>\n",
       "      <td>6638</td>\n",
       "      <td>Subscriber</td>\n",
       "      <td>1989.0</td>\n",
       "      <td>Other</td>\n",
       "      <td>No</td>\n",
       "    </tr>\n",
       "    <tr>\n",
       "      <th>4</th>\n",
       "      <td>1585</td>\n",
       "      <td>2019-02-28 23:54:18.5490</td>\n",
       "      <td>2019-03-01 00:20:44.0740</td>\n",
       "      <td>7.0</td>\n",
       "      <td>Frank H Ogawa Plaza</td>\n",
       "      <td>37.804562</td>\n",
       "      <td>-122.271738</td>\n",
       "      <td>222.0</td>\n",
       "      <td>10th Ave at E 15th St</td>\n",
       "      <td>37.792714</td>\n",
       "      <td>-122.248780</td>\n",
       "      <td>4898</td>\n",
       "      <td>Subscriber</td>\n",
       "      <td>1974.0</td>\n",
       "      <td>Male</td>\n",
       "      <td>Yes</td>\n",
       "    </tr>\n",
       "    <tr>\n",
       "      <th>...</th>\n",
       "      <td>...</td>\n",
       "      <td>...</td>\n",
       "      <td>...</td>\n",
       "      <td>...</td>\n",
       "      <td>...</td>\n",
       "      <td>...</td>\n",
       "      <td>...</td>\n",
       "      <td>...</td>\n",
       "      <td>...</td>\n",
       "      <td>...</td>\n",
       "      <td>...</td>\n",
       "      <td>...</td>\n",
       "      <td>...</td>\n",
       "      <td>...</td>\n",
       "      <td>...</td>\n",
       "      <td>...</td>\n",
       "    </tr>\n",
       "    <tr>\n",
       "      <th>183407</th>\n",
       "      <td>480</td>\n",
       "      <td>2019-02-01 00:04:49.7240</td>\n",
       "      <td>2019-02-01 00:12:50.0340</td>\n",
       "      <td>27.0</td>\n",
       "      <td>Beale St at Harrison St</td>\n",
       "      <td>37.788059</td>\n",
       "      <td>-122.391865</td>\n",
       "      <td>324.0</td>\n",
       "      <td>Union Square (Powell St at Post St)</td>\n",
       "      <td>37.788300</td>\n",
       "      <td>-122.408531</td>\n",
       "      <td>4832</td>\n",
       "      <td>Subscriber</td>\n",
       "      <td>1996.0</td>\n",
       "      <td>Male</td>\n",
       "      <td>No</td>\n",
       "    </tr>\n",
       "    <tr>\n",
       "      <th>183408</th>\n",
       "      <td>313</td>\n",
       "      <td>2019-02-01 00:05:34.7440</td>\n",
       "      <td>2019-02-01 00:10:48.5020</td>\n",
       "      <td>21.0</td>\n",
       "      <td>Montgomery St BART Station (Market St at 2nd St)</td>\n",
       "      <td>37.789625</td>\n",
       "      <td>-122.400811</td>\n",
       "      <td>66.0</td>\n",
       "      <td>3rd St at Townsend St</td>\n",
       "      <td>37.778742</td>\n",
       "      <td>-122.392741</td>\n",
       "      <td>4960</td>\n",
       "      <td>Subscriber</td>\n",
       "      <td>1984.0</td>\n",
       "      <td>Male</td>\n",
       "      <td>No</td>\n",
       "    </tr>\n",
       "    <tr>\n",
       "      <th>183409</th>\n",
       "      <td>141</td>\n",
       "      <td>2019-02-01 00:06:05.5490</td>\n",
       "      <td>2019-02-01 00:08:27.2200</td>\n",
       "      <td>278.0</td>\n",
       "      <td>The Alameda at Bush St</td>\n",
       "      <td>37.331932</td>\n",
       "      <td>-121.904888</td>\n",
       "      <td>277.0</td>\n",
       "      <td>Morrison Ave at Julian St</td>\n",
       "      <td>37.333658</td>\n",
       "      <td>-121.908586</td>\n",
       "      <td>3824</td>\n",
       "      <td>Subscriber</td>\n",
       "      <td>1990.0</td>\n",
       "      <td>Male</td>\n",
       "      <td>Yes</td>\n",
       "    </tr>\n",
       "    <tr>\n",
       "      <th>183410</th>\n",
       "      <td>139</td>\n",
       "      <td>2019-02-01 00:05:34.3600</td>\n",
       "      <td>2019-02-01 00:07:54.2870</td>\n",
       "      <td>220.0</td>\n",
       "      <td>San Pablo Ave at MLK Jr Way</td>\n",
       "      <td>37.811351</td>\n",
       "      <td>-122.273422</td>\n",
       "      <td>216.0</td>\n",
       "      <td>San Pablo Ave at 27th St</td>\n",
       "      <td>37.817827</td>\n",
       "      <td>-122.275698</td>\n",
       "      <td>5095</td>\n",
       "      <td>Subscriber</td>\n",
       "      <td>1988.0</td>\n",
       "      <td>Male</td>\n",
       "      <td>No</td>\n",
       "    </tr>\n",
       "    <tr>\n",
       "      <th>183411</th>\n",
       "      <td>271</td>\n",
       "      <td>2019-02-01 00:00:20.6360</td>\n",
       "      <td>2019-02-01 00:04:52.0580</td>\n",
       "      <td>24.0</td>\n",
       "      <td>Spear St at Folsom St</td>\n",
       "      <td>37.789677</td>\n",
       "      <td>-122.390428</td>\n",
       "      <td>37.0</td>\n",
       "      <td>2nd St at Folsom St</td>\n",
       "      <td>37.785000</td>\n",
       "      <td>-122.395936</td>\n",
       "      <td>1057</td>\n",
       "      <td>Subscriber</td>\n",
       "      <td>1989.0</td>\n",
       "      <td>Male</td>\n",
       "      <td>No</td>\n",
       "    </tr>\n",
       "  </tbody>\n",
       "</table>\n",
       "<p>183412 rows × 16 columns</p>\n",
       "</div>"
      ],
      "text/plain": [
       "        duration_sec                start_time                  end_time  \\\n",
       "0              52185  2019-02-28 17:32:10.1450  2019-03-01 08:01:55.9750   \n",
       "1              42521  2019-02-28 18:53:21.7890  2019-03-01 06:42:03.0560   \n",
       "2              61854  2019-02-28 12:13:13.2180  2019-03-01 05:24:08.1460   \n",
       "3              36490  2019-02-28 17:54:26.0100  2019-03-01 04:02:36.8420   \n",
       "4               1585  2019-02-28 23:54:18.5490  2019-03-01 00:20:44.0740   \n",
       "...              ...                       ...                       ...   \n",
       "183407           480  2019-02-01 00:04:49.7240  2019-02-01 00:12:50.0340   \n",
       "183408           313  2019-02-01 00:05:34.7440  2019-02-01 00:10:48.5020   \n",
       "183409           141  2019-02-01 00:06:05.5490  2019-02-01 00:08:27.2200   \n",
       "183410           139  2019-02-01 00:05:34.3600  2019-02-01 00:07:54.2870   \n",
       "183411           271  2019-02-01 00:00:20.6360  2019-02-01 00:04:52.0580   \n",
       "\n",
       "        start_station_id                                start_station_name  \\\n",
       "0                   21.0  Montgomery St BART Station (Market St at 2nd St)   \n",
       "1                   23.0                     The Embarcadero at Steuart St   \n",
       "2                   86.0                           Market St at Dolores St   \n",
       "3                  375.0                           Grove St at Masonic Ave   \n",
       "4                    7.0                               Frank H Ogawa Plaza   \n",
       "...                  ...                                               ...   \n",
       "183407              27.0                           Beale St at Harrison St   \n",
       "183408              21.0  Montgomery St BART Station (Market St at 2nd St)   \n",
       "183409             278.0                            The Alameda at Bush St   \n",
       "183410             220.0                       San Pablo Ave at MLK Jr Way   \n",
       "183411              24.0                             Spear St at Folsom St   \n",
       "\n",
       "        start_station_latitude  start_station_longitude  end_station_id  \\\n",
       "0                    37.789625              -122.400811            13.0   \n",
       "1                    37.791464              -122.391034            81.0   \n",
       "2                    37.769305              -122.426826             3.0   \n",
       "3                    37.774836              -122.446546            70.0   \n",
       "4                    37.804562              -122.271738           222.0   \n",
       "...                        ...                      ...             ...   \n",
       "183407               37.788059              -122.391865           324.0   \n",
       "183408               37.789625              -122.400811            66.0   \n",
       "183409               37.331932              -121.904888           277.0   \n",
       "183410               37.811351              -122.273422           216.0   \n",
       "183411               37.789677              -122.390428            37.0   \n",
       "\n",
       "                                    end_station_name  end_station_latitude  \\\n",
       "0                     Commercial St at Montgomery St             37.794231   \n",
       "1                                 Berry St at 4th St             37.775880   \n",
       "2       Powell St BART Station (Market St at 4th St)             37.786375   \n",
       "3                             Central Ave at Fell St             37.773311   \n",
       "4                              10th Ave at E 15th St             37.792714   \n",
       "...                                              ...                   ...   \n",
       "183407           Union Square (Powell St at Post St)             37.788300   \n",
       "183408                         3rd St at Townsend St             37.778742   \n",
       "183409                     Morrison Ave at Julian St             37.333658   \n",
       "183410                      San Pablo Ave at 27th St             37.817827   \n",
       "183411                           2nd St at Folsom St             37.785000   \n",
       "\n",
       "        end_station_longitude  bike_id   user_type  member_birth_year  \\\n",
       "0                 -122.402923     4902    Customer             1984.0   \n",
       "1                 -122.393170     2535    Customer                NaN   \n",
       "2                 -122.404904     5905    Customer             1972.0   \n",
       "3                 -122.444293     6638  Subscriber             1989.0   \n",
       "4                 -122.248780     4898  Subscriber             1974.0   \n",
       "...                       ...      ...         ...                ...   \n",
       "183407            -122.408531     4832  Subscriber             1996.0   \n",
       "183408            -122.392741     4960  Subscriber             1984.0   \n",
       "183409            -121.908586     3824  Subscriber             1990.0   \n",
       "183410            -122.275698     5095  Subscriber             1988.0   \n",
       "183411            -122.395936     1057  Subscriber             1989.0   \n",
       "\n",
       "       member_gender bike_share_for_all_trip  \n",
       "0               Male                      No  \n",
       "1                NaN                      No  \n",
       "2               Male                      No  \n",
       "3              Other                      No  \n",
       "4               Male                     Yes  \n",
       "...              ...                     ...  \n",
       "183407          Male                      No  \n",
       "183408          Male                      No  \n",
       "183409          Male                     Yes  \n",
       "183410          Male                      No  \n",
       "183411          Male                      No  \n",
       "\n",
       "[183412 rows x 16 columns]"
      ]
     },
     "execution_count": 2,
     "metadata": {},
     "output_type": "execute_result"
    }
   ],
   "source": [
    "# Reading the data set for San Francisco\n",
    "\n",
    "df = pd.read_csv ('201902-fordgobike-tripdata.csv')\n",
    "df"
   ]
  },
  {
   "cell_type": "code",
   "execution_count": 3,
   "metadata": {},
   "outputs": [
    {
     "name": "stdout",
     "output_type": "stream",
     "text": [
      "<class 'pandas.core.frame.DataFrame'>\n",
      "RangeIndex: 183412 entries, 0 to 183411\n",
      "Data columns (total 16 columns):\n",
      " #   Column                   Non-Null Count   Dtype  \n",
      "---  ------                   --------------   -----  \n",
      " 0   duration_sec             183412 non-null  int64  \n",
      " 1   start_time               183412 non-null  object \n",
      " 2   end_time                 183412 non-null  object \n",
      " 3   start_station_id         183215 non-null  float64\n",
      " 4   start_station_name       183215 non-null  object \n",
      " 5   start_station_latitude   183412 non-null  float64\n",
      " 6   start_station_longitude  183412 non-null  float64\n",
      " 7   end_station_id           183215 non-null  float64\n",
      " 8   end_station_name         183215 non-null  object \n",
      " 9   end_station_latitude     183412 non-null  float64\n",
      " 10  end_station_longitude    183412 non-null  float64\n",
      " 11  bike_id                  183412 non-null  int64  \n",
      " 12  user_type                183412 non-null  object \n",
      " 13  member_birth_year        175147 non-null  float64\n",
      " 14  member_gender            175147 non-null  object \n",
      " 15  bike_share_for_all_trip  183412 non-null  object \n",
      "dtypes: float64(7), int64(2), object(7)\n",
      "memory usage: 17.5+ MB\n"
     ]
    }
   ],
   "source": [
    "# Checking the datatypes and the nummber of null values in the dataset\n",
    "\n",
    "df.info()"
   ]
  },
  {
   "cell_type": "code",
   "execution_count": 4,
   "metadata": {},
   "outputs": [
    {
     "data": {
      "text/html": [
       "<div>\n",
       "<style scoped>\n",
       "    .dataframe tbody tr th:only-of-type {\n",
       "        vertical-align: middle;\n",
       "    }\n",
       "\n",
       "    .dataframe tbody tr th {\n",
       "        vertical-align: top;\n",
       "    }\n",
       "\n",
       "    .dataframe thead th {\n",
       "        text-align: right;\n",
       "    }\n",
       "</style>\n",
       "<table border=\"1\" class=\"dataframe\">\n",
       "  <thead>\n",
       "    <tr style=\"text-align: right;\">\n",
       "      <th></th>\n",
       "      <th>duration_sec</th>\n",
       "      <th>start_station_id</th>\n",
       "      <th>start_station_latitude</th>\n",
       "      <th>start_station_longitude</th>\n",
       "      <th>end_station_id</th>\n",
       "      <th>end_station_latitude</th>\n",
       "      <th>end_station_longitude</th>\n",
       "      <th>bike_id</th>\n",
       "      <th>member_birth_year</th>\n",
       "    </tr>\n",
       "  </thead>\n",
       "  <tbody>\n",
       "    <tr>\n",
       "      <th>count</th>\n",
       "      <td>183412.000000</td>\n",
       "      <td>183215.000000</td>\n",
       "      <td>183412.000000</td>\n",
       "      <td>183412.000000</td>\n",
       "      <td>183215.000000</td>\n",
       "      <td>183412.000000</td>\n",
       "      <td>183412.000000</td>\n",
       "      <td>183412.000000</td>\n",
       "      <td>175147.000000</td>\n",
       "    </tr>\n",
       "    <tr>\n",
       "      <th>mean</th>\n",
       "      <td>726.078435</td>\n",
       "      <td>138.590427</td>\n",
       "      <td>37.771223</td>\n",
       "      <td>-122.352664</td>\n",
       "      <td>136.249123</td>\n",
       "      <td>37.771427</td>\n",
       "      <td>-122.352250</td>\n",
       "      <td>4472.906375</td>\n",
       "      <td>1984.806437</td>\n",
       "    </tr>\n",
       "    <tr>\n",
       "      <th>std</th>\n",
       "      <td>1794.389780</td>\n",
       "      <td>111.778864</td>\n",
       "      <td>0.099581</td>\n",
       "      <td>0.117097</td>\n",
       "      <td>111.515131</td>\n",
       "      <td>0.099490</td>\n",
       "      <td>0.116673</td>\n",
       "      <td>1664.383394</td>\n",
       "      <td>10.116689</td>\n",
       "    </tr>\n",
       "    <tr>\n",
       "      <th>min</th>\n",
       "      <td>61.000000</td>\n",
       "      <td>3.000000</td>\n",
       "      <td>37.317298</td>\n",
       "      <td>-122.453704</td>\n",
       "      <td>3.000000</td>\n",
       "      <td>37.317298</td>\n",
       "      <td>-122.453704</td>\n",
       "      <td>11.000000</td>\n",
       "      <td>1878.000000</td>\n",
       "    </tr>\n",
       "    <tr>\n",
       "      <th>25%</th>\n",
       "      <td>325.000000</td>\n",
       "      <td>47.000000</td>\n",
       "      <td>37.770083</td>\n",
       "      <td>-122.412408</td>\n",
       "      <td>44.000000</td>\n",
       "      <td>37.770407</td>\n",
       "      <td>-122.411726</td>\n",
       "      <td>3777.000000</td>\n",
       "      <td>1980.000000</td>\n",
       "    </tr>\n",
       "    <tr>\n",
       "      <th>50%</th>\n",
       "      <td>514.000000</td>\n",
       "      <td>104.000000</td>\n",
       "      <td>37.780760</td>\n",
       "      <td>-122.398285</td>\n",
       "      <td>100.000000</td>\n",
       "      <td>37.781010</td>\n",
       "      <td>-122.398279</td>\n",
       "      <td>4958.000000</td>\n",
       "      <td>1987.000000</td>\n",
       "    </tr>\n",
       "    <tr>\n",
       "      <th>75%</th>\n",
       "      <td>796.000000</td>\n",
       "      <td>239.000000</td>\n",
       "      <td>37.797280</td>\n",
       "      <td>-122.286533</td>\n",
       "      <td>235.000000</td>\n",
       "      <td>37.797320</td>\n",
       "      <td>-122.288045</td>\n",
       "      <td>5502.000000</td>\n",
       "      <td>1992.000000</td>\n",
       "    </tr>\n",
       "    <tr>\n",
       "      <th>max</th>\n",
       "      <td>85444.000000</td>\n",
       "      <td>398.000000</td>\n",
       "      <td>37.880222</td>\n",
       "      <td>-121.874119</td>\n",
       "      <td>398.000000</td>\n",
       "      <td>37.880222</td>\n",
       "      <td>-121.874119</td>\n",
       "      <td>6645.000000</td>\n",
       "      <td>2001.000000</td>\n",
       "    </tr>\n",
       "  </tbody>\n",
       "</table>\n",
       "</div>"
      ],
      "text/plain": [
       "        duration_sec  start_station_id  start_station_latitude  \\\n",
       "count  183412.000000     183215.000000           183412.000000   \n",
       "mean      726.078435        138.590427               37.771223   \n",
       "std      1794.389780        111.778864                0.099581   \n",
       "min        61.000000          3.000000               37.317298   \n",
       "25%       325.000000         47.000000               37.770083   \n",
       "50%       514.000000        104.000000               37.780760   \n",
       "75%       796.000000        239.000000               37.797280   \n",
       "max     85444.000000        398.000000               37.880222   \n",
       "\n",
       "       start_station_longitude  end_station_id  end_station_latitude  \\\n",
       "count            183412.000000   183215.000000         183412.000000   \n",
       "mean               -122.352664      136.249123             37.771427   \n",
       "std                   0.117097      111.515131              0.099490   \n",
       "min                -122.453704        3.000000             37.317298   \n",
       "25%                -122.412408       44.000000             37.770407   \n",
       "50%                -122.398285      100.000000             37.781010   \n",
       "75%                -122.286533      235.000000             37.797320   \n",
       "max                -121.874119      398.000000             37.880222   \n",
       "\n",
       "       end_station_longitude        bike_id  member_birth_year  \n",
       "count          183412.000000  183412.000000      175147.000000  \n",
       "mean             -122.352250    4472.906375        1984.806437  \n",
       "std                 0.116673    1664.383394          10.116689  \n",
       "min              -122.453704      11.000000        1878.000000  \n",
       "25%              -122.411726    3777.000000        1980.000000  \n",
       "50%              -122.398279    4958.000000        1987.000000  \n",
       "75%              -122.288045    5502.000000        1992.000000  \n",
       "max              -121.874119    6645.000000        2001.000000  "
      ]
     },
     "execution_count": 4,
     "metadata": {},
     "output_type": "execute_result"
    }
   ],
   "source": [
    "# Getting a statistical overview of all the columns to make spotting outliers and future analyses easier.\n",
    "\n",
    "df.describe()"
   ]
  },
  {
   "cell_type": "code",
   "execution_count": 5,
   "metadata": {},
   "outputs": [
    {
     "data": {
      "text/html": [
       "<div>\n",
       "<style scoped>\n",
       "    .dataframe tbody tr th:only-of-type {\n",
       "        vertical-align: middle;\n",
       "    }\n",
       "\n",
       "    .dataframe tbody tr th {\n",
       "        vertical-align: top;\n",
       "    }\n",
       "\n",
       "    .dataframe thead th {\n",
       "        text-align: right;\n",
       "    }\n",
       "</style>\n",
       "<table border=\"1\" class=\"dataframe\">\n",
       "  <thead>\n",
       "    <tr style=\"text-align: right;\">\n",
       "      <th></th>\n",
       "      <th>tripduration</th>\n",
       "      <th>starttime</th>\n",
       "      <th>stoptime</th>\n",
       "      <th>start station id</th>\n",
       "      <th>start station name</th>\n",
       "      <th>start station latitude</th>\n",
       "      <th>start station longitude</th>\n",
       "      <th>end station id</th>\n",
       "      <th>end station name</th>\n",
       "      <th>end station latitude</th>\n",
       "      <th>end station longitude</th>\n",
       "      <th>bikeid</th>\n",
       "      <th>usertype</th>\n",
       "      <th>birth year</th>\n",
       "      <th>gender</th>\n",
       "    </tr>\n",
       "  </thead>\n",
       "  <tbody>\n",
       "    <tr>\n",
       "      <th>0</th>\n",
       "      <td>219</td>\n",
       "      <td>2019-02-01 00:00:06.2570</td>\n",
       "      <td>2019-02-01 00:03:46.1090</td>\n",
       "      <td>3494.0</td>\n",
       "      <td>E 115 St &amp; Lexington Ave</td>\n",
       "      <td>40.797911</td>\n",
       "      <td>-73.942300</td>\n",
       "      <td>3501.0</td>\n",
       "      <td>E 118 St &amp; Madison Ave</td>\n",
       "      <td>40.801487</td>\n",
       "      <td>-73.944251</td>\n",
       "      <td>33450</td>\n",
       "      <td>Subscriber</td>\n",
       "      <td>1989</td>\n",
       "      <td>1</td>\n",
       "    </tr>\n",
       "    <tr>\n",
       "      <th>1</th>\n",
       "      <td>143</td>\n",
       "      <td>2019-02-01 00:00:28.0320</td>\n",
       "      <td>2019-02-01 00:02:51.7460</td>\n",
       "      <td>438.0</td>\n",
       "      <td>St Marks Pl &amp; 1 Ave</td>\n",
       "      <td>40.727791</td>\n",
       "      <td>-73.985649</td>\n",
       "      <td>236.0</td>\n",
       "      <td>St Marks Pl &amp; 2 Ave</td>\n",
       "      <td>40.728419</td>\n",
       "      <td>-73.987140</td>\n",
       "      <td>25626</td>\n",
       "      <td>Subscriber</td>\n",
       "      <td>1990</td>\n",
       "      <td>1</td>\n",
       "    </tr>\n",
       "    <tr>\n",
       "      <th>2</th>\n",
       "      <td>296</td>\n",
       "      <td>2019-02-01 00:01:13.9870</td>\n",
       "      <td>2019-02-01 00:06:10.7340</td>\n",
       "      <td>3571.0</td>\n",
       "      <td>Bedford Ave &amp; Bergen St</td>\n",
       "      <td>40.676368</td>\n",
       "      <td>-73.952918</td>\n",
       "      <td>3549.0</td>\n",
       "      <td>Grand Ave &amp; Bergen St</td>\n",
       "      <td>40.678045</td>\n",
       "      <td>-73.962408</td>\n",
       "      <td>35568</td>\n",
       "      <td>Subscriber</td>\n",
       "      <td>1987</td>\n",
       "      <td>1</td>\n",
       "    </tr>\n",
       "    <tr>\n",
       "      <th>3</th>\n",
       "      <td>478</td>\n",
       "      <td>2019-02-01 00:01:14.1520</td>\n",
       "      <td>2019-02-01 00:09:12.7870</td>\n",
       "      <td>167.0</td>\n",
       "      <td>E 39 St &amp; 3 Ave</td>\n",
       "      <td>40.748901</td>\n",
       "      <td>-73.976049</td>\n",
       "      <td>477.0</td>\n",
       "      <td>W 41 St &amp; 8 Ave</td>\n",
       "      <td>40.756405</td>\n",
       "      <td>-73.990026</td>\n",
       "      <td>25045</td>\n",
       "      <td>Subscriber</td>\n",
       "      <td>1964</td>\n",
       "      <td>2</td>\n",
       "    </tr>\n",
       "    <tr>\n",
       "      <th>4</th>\n",
       "      <td>225</td>\n",
       "      <td>2019-02-01 00:01:49.3410</td>\n",
       "      <td>2019-02-01 00:05:34.4980</td>\n",
       "      <td>3458.0</td>\n",
       "      <td>W 55 St &amp; 6 Ave</td>\n",
       "      <td>40.763094</td>\n",
       "      <td>-73.978350</td>\n",
       "      <td>3443.0</td>\n",
       "      <td>W 52 St &amp; 6 Ave</td>\n",
       "      <td>40.761330</td>\n",
       "      <td>-73.979820</td>\n",
       "      <td>34006</td>\n",
       "      <td>Subscriber</td>\n",
       "      <td>1979</td>\n",
       "      <td>1</td>\n",
       "    </tr>\n",
       "    <tr>\n",
       "      <th>...</th>\n",
       "      <td>...</td>\n",
       "      <td>...</td>\n",
       "      <td>...</td>\n",
       "      <td>...</td>\n",
       "      <td>...</td>\n",
       "      <td>...</td>\n",
       "      <td>...</td>\n",
       "      <td>...</td>\n",
       "      <td>...</td>\n",
       "      <td>...</td>\n",
       "      <td>...</td>\n",
       "      <td>...</td>\n",
       "      <td>...</td>\n",
       "      <td>...</td>\n",
       "      <td>...</td>\n",
       "    </tr>\n",
       "    <tr>\n",
       "      <th>943739</th>\n",
       "      <td>979</td>\n",
       "      <td>2019-02-28 23:59:43.3860</td>\n",
       "      <td>2019-03-01 00:16:02.7620</td>\n",
       "      <td>2002.0</td>\n",
       "      <td>Wythe Ave &amp; Metropolitan Ave</td>\n",
       "      <td>40.716887</td>\n",
       "      <td>-73.963198</td>\n",
       "      <td>3656.0</td>\n",
       "      <td>E 2 St &amp; Avenue A</td>\n",
       "      <td>40.723077</td>\n",
       "      <td>-73.985836</td>\n",
       "      <td>33630</td>\n",
       "      <td>Subscriber</td>\n",
       "      <td>1992</td>\n",
       "      <td>1</td>\n",
       "    </tr>\n",
       "    <tr>\n",
       "      <th>943740</th>\n",
       "      <td>779</td>\n",
       "      <td>2019-02-28 23:59:48.2220</td>\n",
       "      <td>2019-03-01 00:12:47.5150</td>\n",
       "      <td>229.0</td>\n",
       "      <td>Great Jones St</td>\n",
       "      <td>40.727434</td>\n",
       "      <td>-73.993790</td>\n",
       "      <td>519.0</td>\n",
       "      <td>Pershing Square North</td>\n",
       "      <td>40.751873</td>\n",
       "      <td>-73.977706</td>\n",
       "      <td>30765</td>\n",
       "      <td>Subscriber</td>\n",
       "      <td>1995</td>\n",
       "      <td>1</td>\n",
       "    </tr>\n",
       "    <tr>\n",
       "      <th>943741</th>\n",
       "      <td>699</td>\n",
       "      <td>2019-02-28 23:59:48.6480</td>\n",
       "      <td>2019-03-01 00:11:28.5880</td>\n",
       "      <td>494.0</td>\n",
       "      <td>W 26 St &amp; 8 Ave</td>\n",
       "      <td>40.747348</td>\n",
       "      <td>-73.997236</td>\n",
       "      <td>487.0</td>\n",
       "      <td>E 20 St &amp; FDR Drive</td>\n",
       "      <td>40.733143</td>\n",
       "      <td>-73.975739</td>\n",
       "      <td>19721</td>\n",
       "      <td>Subscriber</td>\n",
       "      <td>1996</td>\n",
       "      <td>1</td>\n",
       "    </tr>\n",
       "    <tr>\n",
       "      <th>943742</th>\n",
       "      <td>284</td>\n",
       "      <td>2019-02-28 23:59:59.2640</td>\n",
       "      <td>2019-03-01 00:04:43.6880</td>\n",
       "      <td>3660.0</td>\n",
       "      <td>W 16 St &amp; 8 Ave</td>\n",
       "      <td>40.741022</td>\n",
       "      <td>-74.001385</td>\n",
       "      <td>3255.0</td>\n",
       "      <td>8 Ave &amp; W 31 St</td>\n",
       "      <td>40.750585</td>\n",
       "      <td>-73.994685</td>\n",
       "      <td>27804</td>\n",
       "      <td>Subscriber</td>\n",
       "      <td>1985</td>\n",
       "      <td>1</td>\n",
       "    </tr>\n",
       "    <tr>\n",
       "      <th>943743</th>\n",
       "      <td>279</td>\n",
       "      <td>2019-02-28 23:59:55.0050</td>\n",
       "      <td>2019-03-01 00:04:34.9450</td>\n",
       "      <td>362.0</td>\n",
       "      <td>Broadway &amp; W 37 St</td>\n",
       "      <td>40.751726</td>\n",
       "      <td>-73.987535</td>\n",
       "      <td>490.0</td>\n",
       "      <td>8 Ave &amp; W 33 St</td>\n",
       "      <td>40.751551</td>\n",
       "      <td>-73.993934</td>\n",
       "      <td>21507</td>\n",
       "      <td>Subscriber</td>\n",
       "      <td>1969</td>\n",
       "      <td>1</td>\n",
       "    </tr>\n",
       "  </tbody>\n",
       "</table>\n",
       "<p>943744 rows × 15 columns</p>\n",
       "</div>"
      ],
      "text/plain": [
       "        tripduration                 starttime                  stoptime  \\\n",
       "0                219  2019-02-01 00:00:06.2570  2019-02-01 00:03:46.1090   \n",
       "1                143  2019-02-01 00:00:28.0320  2019-02-01 00:02:51.7460   \n",
       "2                296  2019-02-01 00:01:13.9870  2019-02-01 00:06:10.7340   \n",
       "3                478  2019-02-01 00:01:14.1520  2019-02-01 00:09:12.7870   \n",
       "4                225  2019-02-01 00:01:49.3410  2019-02-01 00:05:34.4980   \n",
       "...              ...                       ...                       ...   \n",
       "943739           979  2019-02-28 23:59:43.3860  2019-03-01 00:16:02.7620   \n",
       "943740           779  2019-02-28 23:59:48.2220  2019-03-01 00:12:47.5150   \n",
       "943741           699  2019-02-28 23:59:48.6480  2019-03-01 00:11:28.5880   \n",
       "943742           284  2019-02-28 23:59:59.2640  2019-03-01 00:04:43.6880   \n",
       "943743           279  2019-02-28 23:59:55.0050  2019-03-01 00:04:34.9450   \n",
       "\n",
       "        start station id            start station name  \\\n",
       "0                 3494.0      E 115 St & Lexington Ave   \n",
       "1                  438.0           St Marks Pl & 1 Ave   \n",
       "2                 3571.0       Bedford Ave & Bergen St   \n",
       "3                  167.0               E 39 St & 3 Ave   \n",
       "4                 3458.0               W 55 St & 6 Ave   \n",
       "...                  ...                           ...   \n",
       "943739            2002.0  Wythe Ave & Metropolitan Ave   \n",
       "943740             229.0                Great Jones St   \n",
       "943741             494.0               W 26 St & 8 Ave   \n",
       "943742            3660.0               W 16 St & 8 Ave   \n",
       "943743             362.0            Broadway & W 37 St   \n",
       "\n",
       "        start station latitude  start station longitude  end station id  \\\n",
       "0                    40.797911               -73.942300          3501.0   \n",
       "1                    40.727791               -73.985649           236.0   \n",
       "2                    40.676368               -73.952918          3549.0   \n",
       "3                    40.748901               -73.976049           477.0   \n",
       "4                    40.763094               -73.978350          3443.0   \n",
       "...                        ...                      ...             ...   \n",
       "943739               40.716887               -73.963198          3656.0   \n",
       "943740               40.727434               -73.993790           519.0   \n",
       "943741               40.747348               -73.997236           487.0   \n",
       "943742               40.741022               -74.001385          3255.0   \n",
       "943743               40.751726               -73.987535           490.0   \n",
       "\n",
       "              end station name  end station latitude  end station longitude  \\\n",
       "0       E 118 St & Madison Ave             40.801487             -73.944251   \n",
       "1          St Marks Pl & 2 Ave             40.728419             -73.987140   \n",
       "2        Grand Ave & Bergen St             40.678045             -73.962408   \n",
       "3              W 41 St & 8 Ave             40.756405             -73.990026   \n",
       "4              W 52 St & 6 Ave             40.761330             -73.979820   \n",
       "...                        ...                   ...                    ...   \n",
       "943739       E 2 St & Avenue A             40.723077             -73.985836   \n",
       "943740   Pershing Square North             40.751873             -73.977706   \n",
       "943741     E 20 St & FDR Drive             40.733143             -73.975739   \n",
       "943742         8 Ave & W 31 St             40.750585             -73.994685   \n",
       "943743         8 Ave & W 33 St             40.751551             -73.993934   \n",
       "\n",
       "        bikeid    usertype  birth year  gender  \n",
       "0        33450  Subscriber        1989       1  \n",
       "1        25626  Subscriber        1990       1  \n",
       "2        35568  Subscriber        1987       1  \n",
       "3        25045  Subscriber        1964       2  \n",
       "4        34006  Subscriber        1979       1  \n",
       "...        ...         ...         ...     ...  \n",
       "943739   33630  Subscriber        1992       1  \n",
       "943740   30765  Subscriber        1995       1  \n",
       "943741   19721  Subscriber        1996       1  \n",
       "943742   27804  Subscriber        1985       1  \n",
       "943743   21507  Subscriber        1969       1  \n",
       "\n",
       "[943744 rows x 15 columns]"
      ]
     },
     "execution_count": 5,
     "metadata": {},
     "output_type": "execute_result"
    }
   ],
   "source": [
    "# Loading data set for New York City\n",
    "\n",
    "df2 = pd.read_csv ('201902-citibike-tripdata.csv')\n",
    "df2"
   ]
  },
  {
   "cell_type": "code",
   "execution_count": 6,
   "metadata": {},
   "outputs": [
    {
     "name": "stdout",
     "output_type": "stream",
     "text": [
      "<class 'pandas.core.frame.DataFrame'>\n",
      "RangeIndex: 943744 entries, 0 to 943743\n",
      "Data columns (total 15 columns):\n",
      " #   Column                   Non-Null Count   Dtype  \n",
      "---  ------                   --------------   -----  \n",
      " 0   tripduration             943744 non-null  int64  \n",
      " 1   starttime                943744 non-null  object \n",
      " 2   stoptime                 943744 non-null  object \n",
      " 3   start station id         943735 non-null  float64\n",
      " 4   start station name       943735 non-null  object \n",
      " 5   start station latitude   943744 non-null  float64\n",
      " 6   start station longitude  943744 non-null  float64\n",
      " 7   end station id           943735 non-null  float64\n",
      " 8   end station name         943735 non-null  object \n",
      " 9   end station latitude     943744 non-null  float64\n",
      " 10  end station longitude    943744 non-null  float64\n",
      " 11  bikeid                   943744 non-null  int64  \n",
      " 12  usertype                 943744 non-null  object \n",
      " 13  birth year               943744 non-null  int64  \n",
      " 14  gender                   943744 non-null  int64  \n",
      "dtypes: float64(6), int64(4), object(5)\n",
      "memory usage: 90.0+ MB\n"
     ]
    }
   ],
   "source": [
    "# Checking the datatypes and the nummber of null values in the dataset\n",
    "\n",
    "df2.info()"
   ]
  },
  {
   "cell_type": "code",
   "execution_count": 7,
   "metadata": {},
   "outputs": [
    {
     "data": {
      "text/html": [
       "<div>\n",
       "<style scoped>\n",
       "    .dataframe tbody tr th:only-of-type {\n",
       "        vertical-align: middle;\n",
       "    }\n",
       "\n",
       "    .dataframe tbody tr th {\n",
       "        vertical-align: top;\n",
       "    }\n",
       "\n",
       "    .dataframe thead th {\n",
       "        text-align: right;\n",
       "    }\n",
       "</style>\n",
       "<table border=\"1\" class=\"dataframe\">\n",
       "  <thead>\n",
       "    <tr style=\"text-align: right;\">\n",
       "      <th></th>\n",
       "      <th>tripduration</th>\n",
       "      <th>start station id</th>\n",
       "      <th>start station latitude</th>\n",
       "      <th>start station longitude</th>\n",
       "      <th>end station id</th>\n",
       "      <th>end station latitude</th>\n",
       "      <th>end station longitude</th>\n",
       "      <th>bikeid</th>\n",
       "      <th>birth year</th>\n",
       "      <th>gender</th>\n",
       "    </tr>\n",
       "  </thead>\n",
       "  <tbody>\n",
       "    <tr>\n",
       "      <th>count</th>\n",
       "      <td>9.437440e+05</td>\n",
       "      <td>943735.000000</td>\n",
       "      <td>943744.000000</td>\n",
       "      <td>943744.000000</td>\n",
       "      <td>943735.000000</td>\n",
       "      <td>943744.000000</td>\n",
       "      <td>943744.000000</td>\n",
       "      <td>943744.000000</td>\n",
       "      <td>943744.000000</td>\n",
       "      <td>943744.000000</td>\n",
       "    </tr>\n",
       "    <tr>\n",
       "      <th>mean</th>\n",
       "      <td>8.047733e+02</td>\n",
       "      <td>1614.552153</td>\n",
       "      <td>40.737283</td>\n",
       "      <td>-73.982164</td>\n",
       "      <td>1604.586391</td>\n",
       "      <td>40.737153</td>\n",
       "      <td>-73.982407</td>\n",
       "      <td>28968.990799</td>\n",
       "      <td>1979.224374</td>\n",
       "      <td>1.176684</td>\n",
       "    </tr>\n",
       "    <tr>\n",
       "      <th>std</th>\n",
       "      <td>7.509697e+03</td>\n",
       "      <td>1456.227953</td>\n",
       "      <td>0.030139</td>\n",
       "      <td>0.018546</td>\n",
       "      <td>1455.324186</td>\n",
       "      <td>0.029901</td>\n",
       "      <td>0.018603</td>\n",
       "      <td>6248.873530</td>\n",
       "      <td>12.176740</td>\n",
       "      <td>0.472637</td>\n",
       "    </tr>\n",
       "    <tr>\n",
       "      <th>min</th>\n",
       "      <td>6.100000e+01</td>\n",
       "      <td>72.000000</td>\n",
       "      <td>40.655400</td>\n",
       "      <td>-74.017134</td>\n",
       "      <td>72.000000</td>\n",
       "      <td>40.655400</td>\n",
       "      <td>-74.043991</td>\n",
       "      <td>14529.000000</td>\n",
       "      <td>1885.000000</td>\n",
       "      <td>0.000000</td>\n",
       "    </tr>\n",
       "    <tr>\n",
       "      <th>25%</th>\n",
       "      <td>3.150000e+02</td>\n",
       "      <td>382.000000</td>\n",
       "      <td>40.718822</td>\n",
       "      <td>-73.994564</td>\n",
       "      <td>380.000000</td>\n",
       "      <td>40.718822</td>\n",
       "      <td>-73.994685</td>\n",
       "      <td>26013.000000</td>\n",
       "      <td>1970.000000</td>\n",
       "      <td>1.000000</td>\n",
       "    </tr>\n",
       "    <tr>\n",
       "      <th>50%</th>\n",
       "      <td>5.180000e+02</td>\n",
       "      <td>507.000000</td>\n",
       "      <td>40.738274</td>\n",
       "      <td>-73.985011</td>\n",
       "      <td>507.000000</td>\n",
       "      <td>40.738274</td>\n",
       "      <td>-73.985649</td>\n",
       "      <td>30929.000000</td>\n",
       "      <td>1982.000000</td>\n",
       "      <td>1.000000</td>\n",
       "    </tr>\n",
       "    <tr>\n",
       "      <th>75%</th>\n",
       "      <td>8.790000e+02</td>\n",
       "      <td>3263.000000</td>\n",
       "      <td>40.756604</td>\n",
       "      <td>-73.972826</td>\n",
       "      <td>3263.000000</td>\n",
       "      <td>40.756405</td>\n",
       "      <td>-73.973442</td>\n",
       "      <td>34045.000000</td>\n",
       "      <td>1989.000000</td>\n",
       "      <td>1.000000</td>\n",
       "    </tr>\n",
       "    <tr>\n",
       "      <th>max</th>\n",
       "      <td>2.403037e+06</td>\n",
       "      <td>3745.000000</td>\n",
       "      <td>40.866000</td>\n",
       "      <td>-73.881000</td>\n",
       "      <td>3745.000000</td>\n",
       "      <td>40.866000</td>\n",
       "      <td>-73.881000</td>\n",
       "      <td>37907.000000</td>\n",
       "      <td>2003.000000</td>\n",
       "      <td>2.000000</td>\n",
       "    </tr>\n",
       "  </tbody>\n",
       "</table>\n",
       "</div>"
      ],
      "text/plain": [
       "       tripduration  start station id  start station latitude  \\\n",
       "count  9.437440e+05     943735.000000           943744.000000   \n",
       "mean   8.047733e+02       1614.552153               40.737283   \n",
       "std    7.509697e+03       1456.227953                0.030139   \n",
       "min    6.100000e+01         72.000000               40.655400   \n",
       "25%    3.150000e+02        382.000000               40.718822   \n",
       "50%    5.180000e+02        507.000000               40.738274   \n",
       "75%    8.790000e+02       3263.000000               40.756604   \n",
       "max    2.403037e+06       3745.000000               40.866000   \n",
       "\n",
       "       start station longitude  end station id  end station latitude  \\\n",
       "count            943744.000000   943735.000000         943744.000000   \n",
       "mean                -73.982164     1604.586391             40.737153   \n",
       "std                   0.018546     1455.324186              0.029901   \n",
       "min                 -74.017134       72.000000             40.655400   \n",
       "25%                 -73.994564      380.000000             40.718822   \n",
       "50%                 -73.985011      507.000000             40.738274   \n",
       "75%                 -73.972826     3263.000000             40.756405   \n",
       "max                 -73.881000     3745.000000             40.866000   \n",
       "\n",
       "       end station longitude         bikeid     birth year         gender  \n",
       "count          943744.000000  943744.000000  943744.000000  943744.000000  \n",
       "mean              -73.982407   28968.990799    1979.224374       1.176684  \n",
       "std                 0.018603    6248.873530      12.176740       0.472637  \n",
       "min               -74.043991   14529.000000    1885.000000       0.000000  \n",
       "25%               -73.994685   26013.000000    1970.000000       1.000000  \n",
       "50%               -73.985649   30929.000000    1982.000000       1.000000  \n",
       "75%               -73.973442   34045.000000    1989.000000       1.000000  \n",
       "max               -73.881000   37907.000000    2003.000000       2.000000  "
      ]
     },
     "execution_count": 7,
     "metadata": {},
     "output_type": "execute_result"
    }
   ],
   "source": [
    "# Getting a statistical overview of all the columns to make spotting outliers and future analyses easier.\n",
    "\n",
    "df2.describe()"
   ]
  },
  {
   "cell_type": "code",
   "execution_count": 8,
   "metadata": {},
   "outputs": [
    {
     "data": {
      "text/plain": [
       "0"
      ]
     },
     "execution_count": 8,
     "metadata": {},
     "output_type": "execute_result"
    }
   ],
   "source": [
    "# No duplicated rows in both data sets\n",
    "\n",
    "sum(df2.duplicated())"
   ]
  },
  {
   "cell_type": "markdown",
   "metadata": {},
   "source": [
    "### What is the structure of your dataset?\n",
    "\n",
    "> The first data set has data for 183412 trips and 16 columns describing characteristics of each trip. The second data set has 943744 trips and 15 columns to describe each trip. The numerical values are of int and float data types. Other characteristics are of object data type. \n",
    "\n",
    "### What is/are the main feature(s) of interest in your dataset?\n",
    "> I'm interested in finding insights about the type (age and gender) of population uses the bike share service, seeing how these different variables affect the trip duration, seeing if the service is used more at a particular time, and comparing the data of the two cities. \n",
    "\n",
    "### What features in the dataset do you think will help support your investigation into your feature(s) of interest?\n",
    "\n",
    "> The tripduration, start time, user type, memeber birth year, and member gender columns contain most of the data worth exploring. The two different data sets provide an opportunity to compare the results of two cities. "
   ]
  },
  {
   "cell_type": "markdown",
   "metadata": {},
   "source": [
    "## The Data needs some cleaning"
   ]
  },
  {
   "cell_type": "code",
   "execution_count": 9,
   "metadata": {},
   "outputs": [],
   "source": [
    "# Removing rows with null values in the member_gender and end_station_name columns\n",
    "\n",
    "df = df[df['member_gender'].notnull()]\n",
    "df = df[df['end_station_name'].notnull()]"
   ]
  },
  {
   "cell_type": "code",
   "execution_count": 10,
   "metadata": {},
   "outputs": [
    {
     "name": "stdout",
     "output_type": "stream",
     "text": [
      "<class 'pandas.core.frame.DataFrame'>\n",
      "Int64Index: 174952 entries, 0 to 183411\n",
      "Data columns (total 16 columns):\n",
      " #   Column                   Non-Null Count   Dtype  \n",
      "---  ------                   --------------   -----  \n",
      " 0   duration_sec             174952 non-null  int64  \n",
      " 1   start_time               174952 non-null  object \n",
      " 2   end_time                 174952 non-null  object \n",
      " 3   start_station_id         174952 non-null  float64\n",
      " 4   start_station_name       174952 non-null  object \n",
      " 5   start_station_latitude   174952 non-null  float64\n",
      " 6   start_station_longitude  174952 non-null  float64\n",
      " 7   end_station_id           174952 non-null  float64\n",
      " 8   end_station_name         174952 non-null  object \n",
      " 9   end_station_latitude     174952 non-null  float64\n",
      " 10  end_station_longitude    174952 non-null  float64\n",
      " 11  bike_id                  174952 non-null  int64  \n",
      " 12  user_type                174952 non-null  object \n",
      " 13  member_birth_year        174952 non-null  float64\n",
      " 14  member_gender            174952 non-null  object \n",
      " 15  bike_share_for_all_trip  174952 non-null  object \n",
      "dtypes: float64(7), int64(2), object(7)\n",
      "memory usage: 18.0+ MB\n"
     ]
    }
   ],
   "source": [
    "# Checking to see if the change has been applied \n",
    "df.info()"
   ]
  },
  {
   "cell_type": "code",
   "execution_count": 11,
   "metadata": {},
   "outputs": [],
   "source": [
    "# Some of the New York city data has zero for gender which corresponds to unkown as mentioned on the website\n",
    "# These rows will be dropped \n",
    "\n",
    "indexl = df2[df2['gender'] == 0].index\n",
    "df2.drop(indexl , inplace=True)"
   ]
  },
  {
   "cell_type": "code",
   "execution_count": 12,
   "metadata": {},
   "outputs": [],
   "source": [
    "#There is a birth year of 1978 in df which means rider is 139 years old\n",
    "#Longest life span recorded is 122 years so this is incorrect information by the user or an error\n",
    "#All birth dates after 1897 are removed as user would be older than 122 otherwise\n",
    "\n",
    "df = df[df.member_birth_year != 1878] \n",
    "df2 = df2[df2['birth year'] >= 1897 ]"
   ]
  },
  {
   "cell_type": "markdown",
   "metadata": {},
   "source": [
    "## Univariate Exploration"
   ]
  },
  {
   "cell_type": "code",
   "execution_count": 13,
   "metadata": {},
   "outputs": [
    {
     "data": {
      "image/png": "[encoded data removed]",
      "text/plain": [
       "<Figure size 576x360 with 1 Axes>"
      ]
     },
     "metadata": {
      "needs_background": "light"
     },
     "output_type": "display_data"
    }
   ],
   "source": [
    "# Plotting a histogram for user type for San Francisco\n",
    "\n",
    "plt.figure(figsize=[8, 5])\n",
    "plt.hist(df['user_type'])\n",
    "plt.xlabel('User Type')\n",
    "plt.ylabel('Frequency')\n",
    "plt.title('San Francisco')\n",
    "plt.show()"
   ]
  },
  {
   "cell_type": "code",
   "execution_count": 14,
   "metadata": {},
   "outputs": [
    {
     "data": {
      "image/png": "[encoded data removed]",
      "text/plain": [
       "<Figure size 576x360 with 1 Axes>"
      ]
     },
     "metadata": {
      "needs_background": "light"
     },
     "output_type": "display_data"
    }
   ],
   "source": [
    "# Plotting a histogram for user type for New York\n",
    "\n",
    "plt.figure(figsize=[8, 5])\n",
    "plt.hist(df2['usertype'])\n",
    "plt.xlabel('User Type')\n",
    "plt.ylabel('Frequency')\n",
    "plt.title('New York')\n",
    "plt.show()"
   ]
  },
  {
   "cell_type": "code",
   "execution_count": 15,
   "metadata": {},
   "outputs": [],
   "source": [
    "# This shows that the vast majority of the riders were Subscribers in both cities.\n",
    "# Next I will look at the gender of the riders "
   ]
  },
  {
   "cell_type": "code",
   "execution_count": 16,
   "metadata": {},
   "outputs": [
    {
     "data": {
      "image/png": "[encoded data removed]",
      "text/plain": [
       "<Figure size 576x360 with 1 Axes>"
      ]
     },
     "metadata": {
      "needs_background": "light"
     },
     "output_type": "display_data"
    }
   ],
   "source": [
    "# Plotting a histogram of gender for San Francisco\n",
    "\n",
    "plt.figure(figsize=[8, 5])\n",
    "plt.hist(df['member_gender'].astype(str))\n",
    "plt.xlabel('Gender')\n",
    "plt.ylabel('Frequency')\n",
    "plt.title('San Francisco')\n",
    "plt.show()"
   ]
  },
  {
   "cell_type": "code",
   "execution_count": 17,
   "metadata": {},
   "outputs": [
    {
     "data": {
      "image/png": "[encoded data removed]",
      "text/plain": [
       "<Figure size 576x360 with 1 Axes>"
      ]
     },
     "metadata": {
      "needs_background": "light"
     },
     "output_type": "display_data"
    }
   ],
   "source": [
    "# Plotting a histogram of gender for New York\n",
    "\n",
    "plt.figure(figsize=[8, 5])\n",
    "plt.hist(df2['gender'].astype(str))\n",
    "plt.xlabel('Gender')\n",
    "plt.ylabel('Frequency')\n",
    "plt.title('New York')\n",
    "plt.show()\n",
    "\n",
    "# 1 corresponds to male and 2 corresponds to female as metioned on the website"
   ]
  },
  {
   "cell_type": "code",
   "execution_count": 18,
   "metadata": {},
   "outputs": [],
   "source": [
    "# This shows that the majority of the riders were Male in both cities.\n",
    "# Next I will look at the birth year of riders"
   ]
  },
  {
   "cell_type": "code",
   "execution_count": 19,
   "metadata": {},
   "outputs": [
    {
     "data": {
      "image/png": "[encoded data removed]",
      "text/plain": [
       "<Figure size 576x360 with 1 Axes>"
      ]
     },
     "metadata": {
      "needs_background": "light"
     },
     "output_type": "display_data"
    }
   ],
   "source": [
    "# Birth Year data histogram for SanFrancisco\n",
    "\n",
    "plt.figure(figsize=[8, 5])\n",
    "plt.hist(df['member_birth_year'])\n",
    "plt.xlabel('Birth Year')\n",
    "plt.ylabel('Frequency')\n",
    "plt.title('San Francisco')\n",
    "plt.show()"
   ]
  },
  {
   "cell_type": "code",
   "execution_count": 20,
   "metadata": {},
   "outputs": [
    {
     "data": {
      "image/png": "[encoded data removed]",
      "text/plain": [
       "<Figure size 576x360 with 1 Axes>"
      ]
     },
     "metadata": {
      "needs_background": "light"
     },
     "output_type": "display_data"
    }
   ],
   "source": [
    "# Birth year data histogram for New York\n",
    "\n",
    "plt.figure(figsize=[8, 5])\n",
    "plt.hist(df2['birth year'])\n",
    "plt.xlabel('Birth Year')\n",
    "plt.ylabel('Frequency')\n",
    "plt.title('New York')\n",
    "plt.show()"
   ]
  },
  {
   "cell_type": "code",
   "execution_count": 21,
   "metadata": {},
   "outputs": [],
   "source": [
    "#The histogram is skewed to the left, which means most riders had a higher birth year which means most riders were young\n",
    "# Most riders were born after 1980. \n",
    "# In New York most riders were born between 1980 and 1990\n",
    "# In San Francisco most riders were born after 1990.\n",
    "# Next the trend of the trip duration is explored."
   ]
  },
  {
   "cell_type": "code",
   "execution_count": 22,
   "metadata": {},
   "outputs": [
    {
     "name": "stderr",
     "output_type": "stream",
     "text": [
      "<ipython-input-22-0fdb80d25408>:12: UserWarning: Attempted to set non-positive left xlim on a log-scaled axis.\n",
      "Invalid limit will be ignored.\n",
      "  plt.axis([0, 10000, 0, 15000])\n"
     ]
    },
    {
     "data": {
      "image/png": "[encoded data removed]",
      "text/plain": [
       "<Figure size 576x360 with 1 Axes>"
      ]
     },
     "metadata": {
      "needs_background": "light"
     },
     "output_type": "display_data"
    }
   ],
   "source": [
    "# The following plots are histograms of the trip duration for both cities.\n",
    "# For San Francisco\n",
    "# A log-log scale is used to plot the histogram as the data is very skewed.\n",
    "\n",
    "binsize = 0.05\n",
    "logb = 10 ** np.arange(2.5, np.log10(df['duration_sec'].max()) + binsize, binsize)\n",
    "\n",
    "plt.figure(figsize=[8, 5])\n",
    "plt.hist(df['duration_sec'], bins = logb)\n",
    "plt.xscale('log')\n",
    "plt.xticks([500, 1e3, 2e3, 5e3, 1e4], [500, 1000, 2000, 5000, 10000])\n",
    "plt.axis([0, 10000, 0, 15000])\n",
    "plt.xlabel('Trip duration (sec)')\n",
    "plt.ylabel('Frequency')\n",
    "plt.title('San Francisco')\n",
    "plt.show();\n",
    "\n"
   ]
  },
  {
   "cell_type": "code",
   "execution_count": 63,
   "metadata": {},
   "outputs": [
    {
     "data": {
      "image/png": "[encoded data removed]",
      "text/plain": [
       "<Figure size 576x360 with 1 Axes>"
      ]
     },
     "metadata": {
      "needs_background": "light"
     },
     "output_type": "display_data"
    }
   ],
   "source": [
    "# For New York \n",
    "# Log-log not required as the normal plot conveys the trend well.\n",
    "\n",
    "plt.figure(figsize=[8, 5])\n",
    "plt.hist(df2['tripduration'], range(0, 5000))\n",
    "plt.xlabel('Trip duration (sec)')\n",
    "plt.ylabel('Frequency')\n",
    "plt.title('New York');\n"
   ]
  },
  {
   "cell_type": "code",
   "execution_count": 24,
   "metadata": {},
   "outputs": [],
   "source": [
    "# This shows that most of the trips were were less than 2000 seconds for both cities."
   ]
  },
  {
   "cell_type": "markdown",
   "metadata": {},
   "source": [
    "### Discuss the distribution(s) of your variable(s) of interest. Were there any unusual points? Did you need to perform any transformations?\n",
    "\n",
    "> The plots show that most of the riders were subscribers, male, young (born after 1980), and had short trips (less than 2000 seconds).To produce a histogram easier to interpret as the data was very skewed for the San Franscio data duration time, a log log scale was used. After looking at the individual plots of the data, I will pose questions to find the interrelation between the different variables. \n",
    "\n",
    "### Of the features you investigated, were there any unusual distributions? Did you perform any operations on the data to tidy, adjust, or change the form of the data? If so, why did you do this?\n",
    "\n",
    "> The trends are similar for both cities and the trends are all logical. All the rows containing null values were removed in the San Francisco data set to remove all the missing data and make the analysis more robust. All the rows with 0 for gender in the New York data set were removed a they correspond to unknown gender, unkown gender reduced the reliability of those rows, so they were removed."
   ]
  },
  {
   "cell_type": "markdown",
   "metadata": {},
   "source": [
    "## Bivariate Exploration"
   ]
  },
  {
   "cell_type": "markdown",
   "metadata": {},
   "source": [
    "### Q: What is the relation between the trip duration and the year of birth?"
   ]
  },
  {
   "cell_type": "code",
   "execution_count": 25,
   "metadata": {},
   "outputs": [
    {
     "data": {
      "text/plain": [
       "703.9983423930129"
      ]
     },
     "execution_count": 25,
     "metadata": {},
     "output_type": "execute_result"
    }
   ],
   "source": [
    "# The mean trip duration in San Francisco\n",
    "\n",
    "df.duration_sec.mean()"
   ]
  },
  {
   "cell_type": "code",
   "execution_count": 26,
   "metadata": {},
   "outputs": [
    {
     "data": {
      "text/plain": [
       "Text(0, 0.5, 'Trip duration (sec)')"
      ]
     },
     "execution_count": 26,
     "metadata": {},
     "output_type": "execute_result"
    },
    {
     "data": {
      "image/png": "[encoded data removed]",
      "text/plain": [
       "<Figure size 576x360 with 1 Axes>"
      ]
     },
     "metadata": {
      "needs_background": "light"
     },
     "output_type": "display_data"
    }
   ],
   "source": [
    "# Plotting a scatter plot of birth year vs trip duration.\n",
    "\n",
    "plt.figure(figsize=[8, 5])\n",
    "plt.scatter(df.member_birth_year, df.duration_sec, s = 20)\n",
    "plt.xlabel('Birth Year')\n",
    "plt.ylabel('Trip duration (sec)');"
   ]
  },
  {
   "cell_type": "markdown",
   "metadata": {},
   "source": [
    "This plot shows that most of the trips with a long trip duration, greater than mean (704 sec), correspond to riders with a birth year later than 1980. That means riders with a longer duration tend to be mostly younger people (younger than 39).\n",
    "\n",
    "There is an error here. The longest human lifespan recorded is 122 years. The data point with birth year of 1880 means the rider is 139 years old which is either inccorect informtion entered by the user or an error. This point will be removed. This will be done in the data cleaning step above, to implement it before the plots are created."
   ]
  },
  {
   "cell_type": "markdown",
   "metadata": {},
   "source": [
    "### Q: Does the gender affect the duration of the trip? "
   ]
  },
  {
   "cell_type": "code",
   "execution_count": 27,
   "metadata": {},
   "outputs": [],
   "source": [
    "# Resetting the index after as some rows were dropped earlier\n",
    "\n",
    "df.reset_index(drop =True, inplace =True)"
   ]
  },
  {
   "cell_type": "code",
   "execution_count": 28,
   "metadata": {},
   "outputs": [],
   "source": [
    "# Function to the obtain arrays of the trip duration, and the member birth year associated to each gender\n",
    "# object refers to the gender ('Female' for example)\n",
    "# array_age is an arry user will pass which will be returned with all birth years for that gender\n",
    "# array_time is an arry user will pass which will be returned with all trip durations for that gender\n",
    "\n",
    "def gender_duration(object, array_age = [], array_time = []) : \n",
    "    for i in range(0,174950):\n",
    "        if df._get_value(i, 'member_gender') == object:\n",
    "            array_time.append(df._get_value(i, 'duration_sec'))\n",
    "            array_age.append(df._get_value(i, 'member_birth_year'))\n",
    "    return [array_age, array_time]    "
   ]
  },
  {
   "cell_type": "code",
   "execution_count": 29,
   "metadata": {},
   "outputs": [],
   "source": [
    "# Gathering the trip duration and member birth year data associated to all Male users\n",
    "age_m = []\n",
    "gend_m = []\n",
    "gender_duration('Male', age_m, gend_m);"
   ]
  },
  {
   "cell_type": "code",
   "execution_count": 30,
   "metadata": {},
   "outputs": [],
   "source": [
    "# Gathering the trip duration and member birth year data associated to all Female users\n",
    "age_f = []\n",
    "gend_f=[]\n",
    "gender_duration('Female', age_f, gend_f);"
   ]
  },
  {
   "cell_type": "code",
   "execution_count": 31,
   "metadata": {},
   "outputs": [],
   "source": [
    "# Gathering the trip duration and member birth year data associated to all Other users\n",
    "age_o = []\n",
    "gend_o = []\n",
    "gender_duration('Other', age_o, gend_o);"
   ]
  },
  {
   "cell_type": "code",
   "execution_count": 32,
   "metadata": {},
   "outputs": [
    {
     "data": {
      "text/plain": [
       "Text(0, 0.5, 'Trip duration (sec)')"
      ]
     },
     "execution_count": 32,
     "metadata": {},
     "output_type": "execute_result"
    },
    {
     "data": {
      "image/png": "[encoded data removed]",
      "text/plain": [
       "<Figure size 576x360 with 1 Axes>"
      ]
     },
     "metadata": {
      "needs_background": "light"
     },
     "output_type": "display_data"
    }
   ],
   "source": [
    "# Making the plot\n",
    "plt.figure(figsize=[8, 5])\n",
    "x = np.linspace(0,(len(gend_m)-1),len(gend_m))\n",
    "x2 = np.linspace(0,(len(gend_f)-1),len(gend_f))\n",
    "x3 = np.linspace(0,(len(gend_o)-1),len(gend_o))\n",
    "plt.plot(x,gend_m)\n",
    "plt.plot(x2,gend_f)\n",
    "plt.plot(x3,gend_o)\n",
    "plt.plot()\n",
    "plt.legend(['Male', 'Female', 'Other'])\n",
    "plt.xlabel('List index', size =10)\n",
    "plt.ylabel('Trip duration (sec)', size = 10);"
   ]
  },
  {
   "cell_type": "markdown",
   "metadata": {},
   "source": [
    "No clear trend can be seen between the gender and the trip duration. All the genders( male, female, and other) have had trips longer than average (704 sec) and trips shorter than average. There are more female users with a trip longer than average, but the data contains a lot more values for male users. Male riders could have a shorter mean trip duration simply because there is too much data, so we cannot conclude that female riders have longer trips. Therefore, no significant correlation between the trip duration and gender is seen."
   ]
  },
  {
   "cell_type": "markdown",
   "metadata": {},
   "source": [
    "### Q: Does the type of customer (Subscriber or not) affect the duration of the trip?"
   ]
  },
  {
   "cell_type": "code",
   "execution_count": 52,
   "metadata": {},
   "outputs": [],
   "source": [
    "# Function to give arrays of the trip duration and the birth year associated to each user type\n",
    "\n",
    "def type_duration(object, type_age, type_duration) : \n",
    "    for i in range(0,174950):\n",
    "        if df._get_value(i, 'user_type') == object:\n",
    "            type_duration.append(df._get_value(i, 'duration_sec')) \n",
    "            type_age.append(df._get_value(i, 'member_birth_year'))\n",
    "    return (type_age, type_duration)"
   ]
  },
  {
   "cell_type": "code",
   "execution_count": 54,
   "metadata": {},
   "outputs": [],
   "source": [
    "# Getting array of duration and birth year for Subscribers\n",
    "age_sub = []\n",
    "sub = []\n",
    "type_duration('Subscriber', age_sub, sub);"
   ]
  },
  {
   "cell_type": "code",
   "execution_count": 55,
   "metadata": {},
   "outputs": [],
   "source": [
    "# Getting array of duration and birth year for Customers\n",
    "age_cust = []\n",
    "cust = []\n",
    "type_duration('Customer', age_cust, cust);"
   ]
  },
  {
   "cell_type": "code",
   "execution_count": 68,
   "metadata": {},
   "outputs": [
    {
     "data": {
      "image/png": "[encoded data removed]",
      "text/plain": [
       "<Figure size 576x360 with 1 Axes>"
      ]
     },
     "metadata": {
      "needs_background": "light"
     },
     "output_type": "display_data"
    }
   ],
   "source": [
    "# Creating the plot\n",
    "plt.figure(figsize=[8, 5])\n",
    "x = np.linspace(0,(len(sub)-1),len(sub))\n",
    "x2 = np.linspace(0,(len(cust)-1),len(cust))\n",
    "plt.plot(x,sub)\n",
    "plt.plot(x2,cust)\n",
    "plt.plot\n",
    "plt.suptitle(\"The Effect of The Type of User on The Duration of The Trip\", y = 1)\n",
    "plt.legend(['Subscriber', 'Customer'])\n",
    "plt.xlabel('List index', size = 10)\n",
    "plt.ylabel('The trip duration of users (sec)', size =10);"
   ]
  },
  {
   "cell_type": "code",
   "execution_count": 57,
   "metadata": {},
   "outputs": [
    {
     "data": {
      "text/plain": [
       "1310.6462420766677"
      ]
     },
     "execution_count": 57,
     "metadata": {},
     "output_type": "execute_result"
    }
   ],
   "source": [
    "# Mean trip duration of customers\n",
    "\n",
    "mean_cust = sum(cust)/len(cust)\n",
    "mean_cust"
   ]
  },
  {
   "cell_type": "code",
   "execution_count": 58,
   "metadata": {},
   "outputs": [
    {
     "data": {
      "text/plain": [
       "640.5536382864539"
      ]
     },
     "execution_count": 58,
     "metadata": {},
     "output_type": "execute_result"
    }
   ],
   "source": [
    "# Mean trip duration of subscribers\n",
    "\n",
    "mean_sub = sum(sub)/len(sub)\n",
    "mean_sub"
   ]
  },
  {
   "cell_type": "markdown",
   "metadata": {},
   "source": [
    "It is seen that the customers tend to have a longer trip duration than subscribers. The plots show that and also the mean trip duration of customers is more than double of the mean trip duration of the subscribers. Therefore, the plot and the statistics support each other."
   ]
  },
  {
   "cell_type": "markdown",
   "metadata": {},
   "source": [
    "### Talk about some of the relationships you observed in this part of the investigation. How did the feature(s) of interest vary with other features in the dataset?\n",
    "\n",
    "> It appears that most of the longer trips are associated to younger users born after 1970. Furthermore, the data shows that gender does not have a significant effect on the trip duration.\n",
    "\n",
    "### Did you observe any interesting relationships between the other features (not the main feature(s) of interest)?\n",
    "\n",
    "> I observed that the customers tend to have a longer trip duration than subscribers. This is an interesting feature and such a relationship was not expected at the start of the exploration."
   ]
  },
  {
   "cell_type": "markdown",
   "metadata": {},
   "source": [
    "## Multivariate Exploration"
   ]
  },
  {
   "cell_type": "markdown",
   "metadata": {},
   "source": [
    "### Exploring the relation between the year of birth, the trip duration, and gender."
   ]
  },
  {
   "cell_type": "code",
   "execution_count": 69,
   "metadata": {},
   "outputs": [
    {
     "data": {
      "image/png": "[encoded data removed]",
      "text/plain": [
       "<Figure size 576x360 with 1 Axes>"
      ]
     },
     "metadata": {
      "needs_background": "light"
     },
     "output_type": "display_data"
    }
   ],
   "source": [
    "# Plotting the scatter plot of birth year vs trip duration for all three genders.\n",
    "# To compare the trend for all three genders.\n",
    "plt.figure(figsize=[8, 5])\n",
    "plt.scatter(age_m , gend_m, s= 10)\n",
    "plt.scatter(age_f, gend_f, s = 10)\n",
    "plt.scatter(age_o, gend_o, s = 10, c = 'purple')\n",
    "plt.legend(['Male', 'Female', 'Other'])\n",
    "plt.suptitle(\"The Trend of The Birth Year of User and The Trip Duration For Different Genders\", y = 1)\n",
    "plt.xlabel('Birth year of user', size =10)\n",
    "plt.ylabel('The trip duration of users (sec)', size =10);"
   ]
  },
  {
   "cell_type": "markdown",
   "metadata": {},
   "source": [
    "For all genders, most of the longest trips are made by users with a birth year greater than 1970. This plot shows that all the genders follow the same general trend of trip duration and birth year. Most values of each are most populated at the bottom of the plot corresponding to a shorter trip duration. And there are a few points with a large trip duration, and this trend is the same for all the genders.  "
   ]
  },
  {
   "cell_type": "markdown",
   "metadata": {},
   "source": [
    "### Exploring the relation between the year of birth, the trip duration, and the type of user.\n"
   ]
  },
  {
   "cell_type": "code",
   "execution_count": 60,
   "metadata": {},
   "outputs": [
    {
     "data": {
      "text/plain": [
       "Text(0, 0.5, 'Trip duration (sec)')"
      ]
     },
     "execution_count": 60,
     "metadata": {},
     "output_type": "execute_result"
    },
    {
     "data": {
      "image/png": "[encoded data removed]",
      "text/plain": [
       "<Figure size 576x360 with 1 Axes>"
      ]
     },
     "metadata": {
      "needs_background": "light"
     },
     "output_type": "display_data"
    }
   ],
   "source": [
    "# Plotting the scatter plot of birth year vs trip duration for both user types.\n",
    "# To compare the trends for both user types\n",
    "plt.figure(figsize=[8, 5])\n",
    "plt.scatter(age_sub , sub, s= 10)\n",
    "plt.scatter(age_cust, cust, s = 10)\n",
    "plt.legend(['Subscriber', 'Customer'])\n",
    "plt.xlabel('Year of Birth', size =10)\n",
    "plt.ylabel('Trip duration (sec)', size =10);"
   ]
  },
  {
   "cell_type": "markdown",
   "metadata": {},
   "source": [
    "This plot again proves that most of the longer trips were undertaken by users born after 1970. This also shows that a greater proportion of customers took longer trips compared to the proportion of subscribers who took longer trips."
   ]
  },
  {
   "cell_type": "markdown",
   "metadata": {},
   "source": [
    "### Comparing the relation between the year of birth, and the trip duration, between San Francisco and New York."
   ]
  },
  {
   "cell_type": "code",
   "execution_count": 71,
   "metadata": {},
   "outputs": [
    {
     "data": {
      "image/png": "[encoded data removed]",
      "text/plain": [
       "<Figure size 576x360 with 1 Axes>"
      ]
     },
     "metadata": {
      "needs_background": "light"
     },
     "output_type": "display_data"
    }
   ],
   "source": [
    "# Plotting the scatter plot of birth year vs trip duration for all users in both users\n",
    "# To compare the trends in the two cities.\n",
    "plt.figure(figsize=[8, 5])\n",
    "plt.scatter(df2['birth year'], df2['tripduration'], s = 10)\n",
    "plt.scatter(df['member_birth_year'], df['duration_sec'], s = 10)\n",
    "plt.legend(['New York', 'San Francisco'])\n",
    "plt.suptitle(\"The Trend of The Birth Year and The Trip Duration of Users For Different Genders\", y = 1)\n",
    "plt.xlabel('Birth year of user', size =10)\n",
    "plt.ylabel('The trip duration of users (sec)', size =10);"
   ]
  },
  {
   "cell_type": "code",
   "execution_count": 61,
   "metadata": {},
   "outputs": [
    {
     "data": {
      "text/plain": [
       "756.8641932285744"
      ]
     },
     "execution_count": 61,
     "metadata": {},
     "output_type": "execute_result"
    }
   ],
   "source": [
    "# Mean trip duration of users in New York.\n",
    "df2['tripduration'].mean()"
   ]
  },
  {
   "cell_type": "markdown",
   "metadata": {},
   "source": [
    "Again, most of the longest trips were undertaken by users born after 1970 in both cities. However, it appears that longer trips were taken in New York than in San Francisco. The longest trip taken in New York is much higher than the longest trip taken in San Francisco. "
   ]
  },
  {
   "cell_type": "markdown",
   "metadata": {},
   "source": [
    "### Talk about some of the relationships you observed in this part of the investigation. Were there features that strengthened each other in terms of looking at your feature(s) of interest?\n",
    "\n",
    "> All the plots reinforced that users borth after 1970 took most of the longest trips regardless of gender, type, and city. The trend of trip duration and birth year is similar for all genders. This means gender does not significantly effect the trip duration which was reinforces the results of the bivariate exploration. \n",
    "\n",
    "### Were there any interesting or surprising interactions between features?\n",
    "\n",
    "> One surprising feature is discovered was that longer trips were taken in New York, and the longest trip in New York was much longer than the longest trip in San Francisco. But, the average trip duration was similar for both cities, 704 sec for San Francisco and 757 sec for New York."
   ]
  }
 ],
 "metadata": {
  "kernelspec": {
   "display_name": "Python 3",
   "language": "python",
   "name": "python3"
  },
  "language_info": {
   "codemirror_mode": {
    "name": "ipython",
    "version": 3
   },
   "file_extension": ".py",
   "mimetype": "text/x-python",
   "name": "python",
   "nbconvert_exporter": "python",
   "pygments_lexer": "ipython3",
   "version": "3.8.5"
  }
 },
 "nbformat": 4,
 "nbformat_minor": 2
}
